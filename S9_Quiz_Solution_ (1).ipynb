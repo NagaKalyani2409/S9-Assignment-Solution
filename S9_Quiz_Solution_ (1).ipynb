{
  "nbformat": 4,
  "nbformat_minor": 0,
  "metadata": {
    "colab": {
      "name": "S9 Quiz Solution .ipynb",
      "provenance": []
    },
    "kernelspec": {
      "name": "python3",
      "display_name": "Python 3"
    },
    "accelerator": "GPU"
  },
  "cells": [
    {
      "cell_type": "code",
      "metadata": {
        "id": "EL15P7rUTuC1",
        "colab_type": "code",
        "outputId": "a6a052a7-2891-4178-a946-b1a3d5ffd78e",
        "colab": {
          "base_uri": "https://localhost:8080/",
          "height": 34
        }
      },
      "source": [
        "from datetime import  datetime\n",
        "print(\"Current Date/Time: \", datetime.now())"
      ],
      "execution_count": 11,
      "outputs": [
        {
          "output_type": "stream",
          "text": [
            "Current Date/Time:  2020-03-21 18:53:42.515271\n"
          ],
          "name": "stdout"
        }
      ]
    },
    {
      "cell_type": "code",
      "metadata": {
        "id": "M6d-9cJ4UZrT",
        "colab_type": "code",
        "outputId": "3038150f-f008-4748-b683-203957ece128",
        "colab": {
          "base_uri": "https://localhost:8080/",
          "height": 139
        }
      },
      "source": [
        "from google.colab import drive\n",
        "drive.mount('/content/gdrive')\n",
        "%cd /content/gdrive/My\\ Drive/S9F"
      ],
      "execution_count": 2,
      "outputs": [
        {
          "output_type": "stream",
          "text": [
            "Go to this URL in a browser: https://accounts.google.com/o/oauth2/auth?client_id=947318989803-6bn6qk8qdgf4n4g3pfee6491hc0brc4i.apps.googleusercontent.com&redirect_uri=urn%3aietf%3awg%3aoauth%3a2.0%3aoob&response_type=code&scope=email%20https%3a%2f%2fwww.googleapis.com%2fauth%2fdocs.test%20https%3a%2f%2fwww.googleapis.com%2fauth%2fdrive%20https%3a%2f%2fwww.googleapis.com%2fauth%2fdrive.photos.readonly%20https%3a%2f%2fwww.googleapis.com%2fauth%2fpeopleapi.readonly\n",
            "\n",
            "Enter your authorization code:\n",
            "··········\n",
            "Mounted at /content/gdrive\n",
            "/content/gdrive/My Drive/S9F\n"
          ],
          "name": "stdout"
        }
      ]
    },
    {
      "cell_type": "code",
      "metadata": {
        "id": "sDaiSC8SUkXW",
        "colab_type": "code",
        "colab": {}
      },
      "source": [
        "import torch.nn as nn\n",
        "import torch.optim as optim\n",
        "from model import QuizDNN\n",
        "import matplotlib.pyplot as plt\n",
        "from torchsummary import summary\n",
        "from data import data\n",
        "from Data.dataset import CIFAR10\n",
        "from display import display\n"
      ],
      "execution_count": 0,
      "outputs": []
    },
    {
      "cell_type": "code",
      "metadata": {
        "id": "RWuA8DPvtt32",
        "colab_type": "code",
        "outputId": "0222b8b3-8f02-4512-a4cc-52539263ae31",
        "colab": {
          "base_uri": "https://localhost:8080/",
          "height": 68
        }
      },
      "source": [
        "trainset, testset, train_loader, test_loader, classes =data()"
      ],
      "execution_count": 4,
      "outputs": [
        {
          "output_type": "stream",
          "text": [
            "CUDA Available? True\n",
            "Files already downloaded and verified\n",
            "Files already downloaded and verified\n"
          ],
          "name": "stdout"
        }
      ]
    },
    {
      "cell_type": "code",
      "metadata": {
        "id": "vuBBWbf0WAqV",
        "colab_type": "code",
        "colab": {}
      },
      "source": [
        "import model\n",
        "net = QuizDNN.QuizDNN()"
      ],
      "execution_count": 0,
      "outputs": []
    },
    {
      "cell_type": "code",
      "metadata": {
        "id": "p4xX80vJWRhT",
        "colab_type": "code",
        "colab": {}
      },
      "source": [
        "criterion = nn.CrossEntropyLoss()\n",
        "optimizer = optim.SGD(net.parameters(), lr=0.001, momentum=0.9)"
      ],
      "execution_count": 0,
      "outputs": []
    },
    {
      "cell_type": "code",
      "metadata": {
        "id": "Cj1EesY2WZBo",
        "colab_type": "code",
        "colab": {
          "base_uri": "https://localhost:8080/",
          "height": 782
        },
        "outputId": "d89c155c-f402-4658-b2c9-75e346019d46"
      },
      "source": [
        "import torch\n",
        "use_cuda = torch.cuda.is_available()\n",
        "device = torch.device(\"cuda\" if use_cuda else \"cpu\")\n",
        "print(device)\n",
        "model = net.to(device)\n",
        "summary(model, input_size=(3, 32, 32))"
      ],
      "execution_count": 9,
      "outputs": [
        {
          "output_type": "stream",
          "text": [
            "cuda\n",
            "----------------------------------------------------------------\n",
            "        Layer (type)               Output Shape         Param #\n",
            "================================================================\n",
            "            Conv2d-1           [-1, 64, 32, 32]           1,792\n",
            "              ReLU-2           [-1, 64, 32, 32]               0\n",
            "       BatchNorm2d-3           [-1, 64, 32, 32]             128\n",
            "            Conv2d-4           [-1, 64, 32, 32]          36,928\n",
            "              ReLU-5           [-1, 64, 32, 32]               0\n",
            "       BatchNorm2d-6           [-1, 64, 32, 32]             128\n",
            "            Conv2d-7           [-1, 64, 32, 32]          36,928\n",
            "              ReLU-8           [-1, 64, 32, 32]               0\n",
            "       BatchNorm2d-9           [-1, 64, 32, 32]             128\n",
            "        MaxPool2d-10           [-1, 64, 16, 16]               0\n",
            "           Conv2d-11           [-1, 64, 16, 16]          36,928\n",
            "             ReLU-12           [-1, 64, 16, 16]               0\n",
            "      BatchNorm2d-13           [-1, 64, 16, 16]             128\n",
            "           Conv2d-14           [-1, 64, 16, 16]          36,928\n",
            "             ReLU-15           [-1, 64, 16, 16]               0\n",
            "      BatchNorm2d-16           [-1, 64, 16, 16]             128\n",
            "           Conv2d-17           [-1, 64, 16, 16]          36,928\n",
            "             ReLU-18           [-1, 64, 16, 16]               0\n",
            "      BatchNorm2d-19           [-1, 64, 16, 16]             128\n",
            "        MaxPool2d-20             [-1, 64, 8, 8]               0\n",
            "           Conv2d-21             [-1, 64, 8, 8]          36,928\n",
            "             ReLU-22             [-1, 64, 8, 8]               0\n",
            "      BatchNorm2d-23             [-1, 64, 8, 8]             128\n",
            "           Conv2d-24             [-1, 64, 8, 8]          36,928\n",
            "             ReLU-25             [-1, 64, 8, 8]               0\n",
            "      BatchNorm2d-26             [-1, 64, 8, 8]             128\n",
            "           Conv2d-27             [-1, 64, 8, 8]          36,928\n",
            "             ReLU-28             [-1, 64, 8, 8]               0\n",
            "      BatchNorm2d-29             [-1, 64, 8, 8]             128\n",
            "AdaptiveAvgPool2d-30             [-1, 64, 1, 1]               0\n",
            "           Linear-31                   [-1, 10]             650\n",
            "================================================================\n",
            "Total params: 299,018\n",
            "Trainable params: 299,018\n",
            "Non-trainable params: 0\n",
            "----------------------------------------------------------------\n",
            "Input size (MB): 0.01\n",
            "Forward/backward pass size (MB): 6.06\n",
            "Params size (MB): 1.14\n",
            "Estimated Total Size (MB): 7.22\n",
            "----------------------------------------------------------------\n"
          ],
          "name": "stdout"
        }
      ]
    },
    {
      "cell_type": "code",
      "metadata": {
        "id": "3eyAe4H9W7Nd",
        "colab_type": "code",
        "colab": {
          "base_uri": "https://localhost:8080/",
          "height": 867
        },
        "outputId": "4395b750-4ff7-4898-d142-029770a6f111"
      },
      "source": [
        "from callbacks import lr_scheduler\n",
        "\n",
        "from traintest import train,test\n",
        "lr_step_size=10\n",
        "lr_gamma=0.1\n",
        "scheduler = lr_scheduler(optimizer,lr_step_size, lr_gamma)\n",
        "losses = []\n",
        "accuracies = []\n",
        "correct_samples = []\n",
        "incorrect_samples = []\n",
        "EPOCHS = 10\n",
        "for epoch in range(EPOCHS):\n",
        "    print(\"EPOCH:\", epoch)\n",
        "    train(model,device,train_loader, optimizer, epoch, criterion)\n",
        "    test(model, device, test_loader)"
      ],
      "execution_count": 10,
      "outputs": [
        {
          "output_type": "stream",
          "text": [
            "\r  0%|          | 0/782 [00:00<?, ?it/s]"
          ],
          "name": "stderr"
        },
        {
          "output_type": "stream",
          "text": [
            "EPOCH: 0\n"
          ],
          "name": "stdout"
        },
        {
          "output_type": "stream",
          "text": [
            "Loss=1.272868037223816 Batch_id=781 Accuracy=44.42: 100%|██████████| 782/782 [00:21<00:00, 37.18it/s]\n",
            "  0%|          | 0/782 [00:00<?, ?it/s]"
          ],
          "name": "stderr"
        },
        {
          "output_type": "stream",
          "text": [
            "\n",
            "Test set: Average loss: 0.4791, Accuracy: 5209/10000 (52.09%)\n",
            "\n",
            "EPOCH: 1\n"
          ],
          "name": "stdout"
        },
        {
          "output_type": "stream",
          "text": [
            "Loss=1.2868573665618896 Batch_id=781 Accuracy=58.62: 100%|██████████| 782/782 [00:20<00:00, 37.59it/s]\n",
            "  0%|          | 0/782 [00:00<?, ?it/s]"
          ],
          "name": "stderr"
        },
        {
          "output_type": "stream",
          "text": [
            "\n",
            "Test set: Average loss: 0.3932, Accuracy: 6068/10000 (60.68%)\n",
            "\n",
            "EPOCH: 2\n"
          ],
          "name": "stdout"
        },
        {
          "output_type": "stream",
          "text": [
            "Loss=1.3784115314483643 Batch_id=781 Accuracy=65.10: 100%|██████████| 782/782 [00:20<00:00, 37.79it/s]\n",
            "  0%|          | 0/782 [00:00<?, ?it/s]"
          ],
          "name": "stderr"
        },
        {
          "output_type": "stream",
          "text": [
            "\n",
            "Test set: Average loss: 0.3369, Accuracy: 6631/10000 (66.31%)\n",
            "\n",
            "EPOCH: 3\n"
          ],
          "name": "stdout"
        },
        {
          "output_type": "stream",
          "text": [
            "Loss=1.3497140407562256 Batch_id=781 Accuracy=69.47: 100%|██████████| 782/782 [00:20<00:00, 37.66it/s]\n",
            "  0%|          | 0/782 [00:00<?, ?it/s]"
          ],
          "name": "stderr"
        },
        {
          "output_type": "stream",
          "text": [
            "\n",
            "Test set: Average loss: 0.3157, Accuracy: 6843/10000 (68.43%)\n",
            "\n",
            "EPOCH: 4\n"
          ],
          "name": "stdout"
        },
        {
          "output_type": "stream",
          "text": [
            "Loss=1.3808534145355225 Batch_id=781 Accuracy=73.13: 100%|██████████| 782/782 [00:20<00:00, 37.68it/s]\n",
            "  0%|          | 0/782 [00:00<?, ?it/s]"
          ],
          "name": "stderr"
        },
        {
          "output_type": "stream",
          "text": [
            "\n",
            "Test set: Average loss: 0.3059, Accuracy: 6941/10000 (69.41%)\n",
            "\n",
            "EPOCH: 5\n"
          ],
          "name": "stdout"
        },
        {
          "output_type": "stream",
          "text": [
            "Loss=0.6635091304779053 Batch_id=781 Accuracy=76.02: 100%|██████████| 782/782 [00:20<00:00, 37.55it/s]\n",
            "  0%|          | 0/782 [00:00<?, ?it/s]"
          ],
          "name": "stderr"
        },
        {
          "output_type": "stream",
          "text": [
            "\n",
            "Test set: Average loss: 0.2788, Accuracy: 7212/10000 (72.12%)\n",
            "\n",
            "EPOCH: 6\n"
          ],
          "name": "stdout"
        },
        {
          "output_type": "stream",
          "text": [
            "Loss=0.40931910276412964 Batch_id=781 Accuracy=78.65: 100%|██████████| 782/782 [00:20<00:00, 37.61it/s]\n",
            "  0%|          | 0/782 [00:00<?, ?it/s]"
          ],
          "name": "stderr"
        },
        {
          "output_type": "stream",
          "text": [
            "\n",
            "Test set: Average loss: 0.3007, Accuracy: 6993/10000 (69.93%)\n",
            "\n",
            "EPOCH: 7\n"
          ],
          "name": "stdout"
        },
        {
          "output_type": "stream",
          "text": [
            "Loss=0.44050735235214233 Batch_id=781 Accuracy=80.67: 100%|██████████| 782/782 [00:20<00:00, 37.89it/s]\n",
            "  0%|          | 0/782 [00:00<?, ?it/s]"
          ],
          "name": "stderr"
        },
        {
          "output_type": "stream",
          "text": [
            "\n",
            "Test set: Average loss: 0.2223, Accuracy: 7777/10000 (77.77%)\n",
            "\n",
            "EPOCH: 8\n"
          ],
          "name": "stdout"
        },
        {
          "output_type": "stream",
          "text": [
            "Loss=0.3369050621986389 Batch_id=781 Accuracy=82.95: 100%|██████████| 782/782 [00:20<00:00, 37.37it/s]\n",
            "  0%|          | 0/782 [00:00<?, ?it/s]"
          ],
          "name": "stderr"
        },
        {
          "output_type": "stream",
          "text": [
            "\n",
            "Test set: Average loss: 0.2455, Accuracy: 7545/10000 (75.45%)\n",
            "\n",
            "EPOCH: 9\n"
          ],
          "name": "stdout"
        },
        {
          "output_type": "stream",
          "text": [
            "Loss=0.6546609401702881 Batch_id=781 Accuracy=84.29: 100%|██████████| 782/782 [00:20<00:00, 38.45it/s]\n"
          ],
          "name": "stderr"
        },
        {
          "output_type": "stream",
          "text": [
            "\n",
            "Test set: Average loss: 0.2189, Accuracy: 7811/10000 (78.11%)\n",
            "\n"
          ],
          "name": "stdout"
        }
      ]
    }
  ]
}